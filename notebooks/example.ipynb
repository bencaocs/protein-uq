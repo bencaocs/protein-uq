{
 "cells": [
  {
   "cell_type": "code",
   "execution_count": null,
   "id": "155b587e",
   "metadata": {},
   "outputs": [],
   "source": [
    "import os\n",
    "os.chdir(\"../src/models/\")\n",
    "\n",
    "import random\n",
    "import torch\n",
    "import numpy as np\n",
    "import re\n",
    "import matplotlib.pyplot as plt\n",
    "\n",
    "from train_all import train_eval"
   ]
  },
  {
   "cell_type": "markdown",
   "id": "40845063",
   "metadata": {},
   "source": [
    "# Train Model"
   ]
  },
  {
   "cell_type": "markdown",
   "id": "9743b786",
   "metadata": {},
   "source": [
    "Here we train a CNN model on the \"sampled\" split of the GB1 landscape using the ESM representation and evidential uncertainty."
   ]
  },
  {
   "cell_type": "code",
   "execution_count": null,
   "id": "16f79d12",
   "metadata": {
    "scrolled": false
   },
   "outputs": [],
   "source": [
    "random.seed(0)\n",
    "torch.manual_seed(0)\n",
    "np.random.seed(0)\n",
    "\n",
    "train_eval(\n",
    "    dataset=\"gb1\",\n",
    "    model=\"cnn\",\n",
    "    representation=\"esm\",\n",
    "    uncertainty=\"evidential\",\n",
    "    split=\"sampled\",\n",
    "    device=torch.device(\"cpu\"),\n",
    "    scale=True,\n",
    "    results_dir=\"results\",\n",
    "    mean=True,\n",
    "    mut_mean=False,\n",
    "    batch_size=256,\n",
    "    flip=False,\n",
    "    kernel_size=5,\n",
    "    input_size=1024,\n",
    "    dropout=0.0,\n",
    "    gb1_shorten=False,\n",
    "    max_iter=300,\n",
    "    tol=1e-3,\n",
    "    alpha_1=1e-6,\n",
    "    alpha_2=1e-6,\n",
    "    lambda_1=1e-6,\n",
    "    lambda_2=1e-6,\n",
    "    size=0,\n",
    "    length=1.0,\n",
    "    gpu=[],\n",
    "    regularizer_coeff=1.0,\n",
    "    seed=0,\n",
    ")"
   ]
  },
  {
   "cell_type": "code",
   "execution_count": null,
   "id": "69763d09",
   "metadata": {},
   "outputs": [],
   "source": []
  }
 ],
 "metadata": {
  "kernelspec": {
   "display_name": "Python [conda env:protein-uq]",
   "language": "python",
   "name": "conda-env-protein-uq-py"
  },
  "language_info": {
   "codemirror_mode": {
    "name": "ipython",
    "version": 3
   },
   "file_extension": ".py",
   "mimetype": "text/x-python",
   "name": "python",
   "nbconvert_exporter": "python",
   "pygments_lexer": "ipython3",
   "version": "3.9.16"
  }
 },
 "nbformat": 4,
 "nbformat_minor": 5
}
